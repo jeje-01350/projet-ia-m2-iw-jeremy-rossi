{
 "cells": [
  {
   "metadata": {},
   "cell_type": "markdown",
   "source": [
    "### Étape 1: Analyse des données avec Pandas et NumpyÉtape 1: Analyse des données avec Pandas et Numpy"
   ],
   "id": "62faf50afa741a5"
  },
  {
   "metadata": {},
   "cell_type": "code",
   "source": [
    "import pandas as pd\n",
    "\n",
    "donnees = pd.read_csv('suites.csv')\n",
    "\n",
    "superficie_moyenne = donnees['surface'].mean()\n",
    "superficie_ecart_type = donnees['surface'].std()\n",
    "superficie_minimale = donnees['surface'].min()\n",
    "superficie_maximale = donnees['surface'].max()\n",
    "\n",
    "annee_moyenne = donnees['annee'].mean()\n",
    "construction_plus_ancienne = donnees['annee'].min()\n",
    "construction_plus_recente = donnees['annee'].max()\n",
    "\n",
    "proportion_balcon = donnees['balcon'].mean()\n",
    "\n",
    "comptage_categories_prix = donnees['price_category'].value_counts()\n",
    "\n",
    "chambres_moyenne = donnees['nbRooms'].mean()\n",
    "chambres_mediane = donnees['nbRooms'].median()\n",
    "chambres_variance = donnees['nbRooms'].var()\n",
    "chambres_ecart_type = donnees['nbRooms'].std()\n",
    "\n",
    "# Affichage des résultats\n",
    "print(f\"Superficie: Moyenne={superficie_moyenne}, Ecart-type={superficie_ecart_type}, Min={superficie_minimale}, Max={superficie_maximale}\")\n",
    "print(f\"Année: Moyenne={annee_moyenne}, Plus ancienne={construction_plus_ancienne}, Plus récente={construction_plus_recente}\")\n",
    "print(f\"Proportion de logements avec balcon: {proportion_balcon}\")\n",
    "print(f\"Catégories de prix: \\n{comptage_categories_prix}\")\n",
    "print(f\"Nombre de chambres: Moyenne={chambres_moyenne}, Médiane={chambres_mediane}, Variance={chambres_variance}, Ecart-type={chambres_ecart_type}\")\n"
   ],
   "id": "ac3e3844737c5258",
   "outputs": [],
   "execution_count": null
  },
  {
   "metadata": {},
   "cell_type": "markdown",
   "source": [
    "### Étape 2: Visualisation avec Matplotlib\n",
    "#### Diagramme à barres pour les catégories de prix"
   ],
   "id": "e5e1bf7320c141aa"
  },
  {
   "metadata": {},
   "cell_type": "code",
   "source": [
    "import matplotlib.pyplot as plt\n",
    "\n",
    "comptage_categories_prix.plot(kind='bar', color=['blue', 'green', 'red', 'orange'])\n",
    "plt.title('Répartition des catégories de prix')\n",
    "plt.xlabel('Catégorie de prix')\n",
    "plt.ylabel('Nombre de logements')\n",
    "plt.show()\n"
   ],
   "id": "9d3a416ebd1d7fab",
   "outputs": [],
   "execution_count": null
  },
  {
   "metadata": {},
   "cell_type": "markdown",
   "source": [
    "### Heatmap de la corrélation entre l'année et le prix"
   ],
   "id": "ef481af2b576c11f"
  },
  {
   "metadata": {},
   "cell_type": "code",
   "source": [
    "import seaborn as sns\n",
    "\n",
    "correlation_donnees = donnees[['annee', 'price']].corr()\n",
    "\n",
    "sns.heatmap(correlation_donnees, annot=True, cmap='coolwarm')\n",
    "plt.title('Corrélation entre l\\'année de construction et le prix')\n",
    "plt.show()\n"
   ],
   "id": "142ddd2af36f84ef",
   "outputs": [],
   "execution_count": null
  },
  {
   "metadata": {},
   "cell_type": "markdown",
   "source": [
    "### Étape 4: Régression linéaire pour prédire la note"
   ],
   "id": "632769c858b91d0a"
  },
  {
   "metadata": {},
   "cell_type": "code",
   "source": [
    "from sklearn.model_selection import train_test_split\n",
    "from sklearn.linear_model import LinearRegression\n",
    "from sklearn.metrics import mean_squared_error, r2_score\n",
    "\n",
    "X_explication = donnees[['surface', 'price']]  # Variables explicatives\n",
    "y_resultat = donnees['note']  # Variable dépendante\n",
    "\n",
    "X_train_set, X_test_set, y_train_set, y_test_set = train_test_split(X_explication, y_resultat, test_size=0.2, random_state=42)\n",
    "\n",
    "modele_regression = LinearRegression()\n",
    "modele_regression.fit(X_train_set, y_train_set)\n",
    "\n",
    "y_predictions = modele_regression.predict(X_test_set)\n",
    "\n",
    "erreur_moyenne = mean_squared_error(y_test_set, y_predictions)\n",
    "score_r2 = r2_score(y_test_set, y_predictions)\n",
    "\n",
    "print(f\"Erreur Moyenne Quadratique (MSE): {erreur_moyenne}, Coefficient de Détermination (R²): {score_r2}\")\n"
   ],
   "id": "fe593cf759010b33",
   "outputs": [],
   "execution_count": null
  },
  {
   "metadata": {},
   "cell_type": "markdown",
   "source": [
    "### Créer une classification logistique pour savoir si il y a un garage en fonction du prix et de la ville "
   ],
   "id": "a0fceb3c5324b820"
  },
  {
   "metadata": {},
   "cell_type": "code",
   "source": [
    "import pandas as pd\n",
    "from sklearn.model_selection import train_test_split\n",
    "from sklearn.linear_model import LogisticRegression\n",
    "from sklearn.preprocessing import LabelEncoder\n",
    "from sklearn.metrics import accuracy_score, recall_score, f1_score\n",
    "\n",
    "donnees_logement = pd.read_csv('suites.csv')\n",
    "\n",
    "X_explications = donnees_logement[['price', 'ville']]  # Variables explicatives (prix et ville)\n",
    "y_resultat = donnees_logement['garage']  # Variable dépendante (garage: True/False)\n",
    "\n",
    "encodeur_ville = LabelEncoder()\n",
    "X_explications['ville'] = encodeur_ville.fit_transform(X_explications['ville'])\n",
    "\n",
    "X_train_set, X_test_set, y_train_set, y_test_set = train_test_split(X_explications, y_resultat, test_size=0.2, random_state=42)\n",
    "\n",
    "modele_logistique = LogisticRegression(max_iter=200)\n",
    "modele_logistique.fit(X_train_set, y_train_set)\n",
    "\n",
    "y_predictions = modele_logistique.predict(X_test_set)\n",
    "\n",
    "precision = accuracy_score(y_test_set, y_predictions)\n",
    "rappel = recall_score(y_test_set, y_predictions)\n",
    "score_f1 = f1_score(y_test_set, y_predictions)\n",
    "\n",
    "print(f\"Précision (Accuracy): {precision}\")\n",
    "print(f\"Rappel (Recall): {rappel}\")\n",
    "print(f\"Score F1: {score_f1}\")\n"
   ],
   "id": "fbe1a4a7c8f2b528",
   "outputs": [],
   "execution_count": null
  },
  {
   "metadata": {},
   "cell_type": "markdown",
   "source": [
    "### Créer une classification par KNN pour savoir si il a un balcon en fonction du prix et de la ville"
   ],
   "id": "2128315636d85881"
  },
  {
   "metadata": {},
   "cell_type": "code",
   "source": [
    "import pandas as pd\n",
    "from sklearn.model_selection import train_test_split\n",
    "from sklearn.neighbors import KNeighborsClassifier\n",
    "from sklearn.preprocessing import LabelEncoder\n",
    "from sklearn.metrics import accuracy_score, recall_score, f1_score\n",
    "\n",
    "donnees_logement = pd.read_csv('suites.csv')\n",
    "\n",
    "X_features = donnees_logement[['price', 'ville']]  # Variables explicatives (prix et ville)\n",
    "y_target = donnees_logement['balcon']  # Variable dépendante (balcon: True/False)\n",
    "\n",
    "encodeur_label = LabelEncoder()\n",
    "X_features['ville'] = encodeur_label.fit_transform(X_features['ville'])\n",
    "\n",
    "X_train_knn, X_test_knn, y_train_knn, y_test_knn = train_test_split(X_features, y_target, test_size=0.2, random_state=42)\n",
    "\n",
    "modele_knn = KNeighborsClassifier(n_neighbors=5)\n",
    "modele_knn.fit(X_train_knn, y_train_knn)\n",
    "\n",
    "y_pred_knn = modele_knn.predict(X_test_knn)\n",
    "\n",
    "precision_knn = accuracy_score(y_test_knn, y_pred_knn)\n",
    "rappel_knn = recall_score(y_test_knn, y_pred_knn)\n",
    "score_f1_knn = f1_score(y_test_knn, y_pred_knn)\n",
    "\n",
    "print(f\"Précision (KNN): {precision_knn}\")\n",
    "print(f\"Rappel (KNN): {rappel_knn}\")\n",
    "print(f\"Score F1 (KNN): {score_f1_knn}\")\n"
   ],
   "id": "fccaf01ff293373d",
   "outputs": [],
   "execution_count": null
  },
  {
   "metadata": {},
   "cell_type": "markdown",
   "source": [
    "### Bonus: Comparer les 2 méthodes de classification KNN et logistique précédente pour voir celle qui prédits le mieux: (accuracy, recall puis F1 Score)"
   ],
   "id": "2a9a08fb9de2e852"
  },
  {
   "metadata": {},
   "cell_type": "code",
   "source": [
    "import pandas as pd\n",
    "from sklearn.model_selection import train_test_split\n",
    "from sklearn.neighbors import KNeighborsClassifier\n",
    "from sklearn.linear_model import LogisticRegression\n",
    "from sklearn.preprocessing import LabelEncoder\n",
    "from sklearn.metrics import accuracy_score, recall_score, f1_score\n",
    "\n",
    "donnees = pd.read_csv('suites.csv')\n",
    "\n",
    "X_explications = donnees[['price', 'ville']]  # Variables explicatives (prix et ville)\n",
    "y_balcon = donnees['balcon']  # Cible 1 (balcon: True/False)\n",
    "y_garage = donnees['garage']  # Cible 2 (garage: True/False)\n",
    "\n",
    "encodeur = LabelEncoder()\n",
    "X_explications['ville'] = encodeur.fit_transform(X_explications['ville'])\n",
    "\n",
    "X_train_balcon, X_test_balcon, y_train_balcon, y_test_balcon = train_test_split(X_explications, y_balcon, test_size=0.2, random_state=42)\n",
    "X_train_garage, X_test_garage, y_train_garage, y_test_garage = train_test_split(X_explications, y_garage, test_size=0.2, random_state=42)\n",
    "\n",
    "modele_logistique = LogisticRegression(max_iter=200)\n",
    "modele_logistique.fit(X_train_garage, y_train_garage)\n",
    "y_pred_logistique_garage = modele_logistique.predict(X_test_garage)\n",
    "\n",
    "modele_knn = KNeighborsClassifier(n_neighbors=5)\n",
    "modele_knn.fit(X_train_balcon, y_train_balcon)\n",
    "y_pred_knn_balcon = modele_knn.predict(X_test_balcon)\n",
    "\n",
    "precision_logistique = accuracy_score(y_test_garage, y_pred_logistique_garage)\n",
    "rappel_logistique = recall_score(y_test_garage, y_pred_logistique_garage)\n",
    "score_f1_logistique = f1_score(y_test_garage, y_pred_logistique_garage)\n",
    "\n",
    "precision_knn = accuracy_score(y_test_balcon, y_pred_knn_balcon)\n",
    "rappel_knn = recall_score(y_test_balcon, y_pred_knn_balcon)\n",
    "score_f1_knn = f1_score(y_test_balcon, y_pred_knn_balcon)\n",
    "\n",
    "print(\"Régression Logistique (Garage):\")\n",
    "print(f\"  Précision (Accuracy): {precision_logistique}\")\n",
    "print(f\"  Rappel (Recall): {rappel_logistique}\")\n",
    "print(f\"  Score F1: {score_f1_logistique}\")\n",
    "\n",
    "print(\"\\nKNN (Balcon):\")\n",
    "print(f\"  Précision (Accuracy): {precision_knn}\")\n",
    "print(f\"  Rappel (Recall): {rappel_knn}\")\n",
    "print(f\"  Score F1: {score_f1_knn}\")\n"
   ],
   "id": "9b4762653309114",
   "outputs": [],
   "execution_count": null
  },
  {
   "metadata": {},
   "cell_type": "code",
   "source": [
    "import pandas as pd\n",
    "from sklearn.model_selection import train_test_split\n",
    "from sklearn.ensemble import RandomForestClassifier\n",
    "from sklearn.preprocessing import LabelEncoder\n",
    "from sklearn.metrics import accuracy_score, recall_score, f1_score\n",
    "\n",
    "donnees_logement = pd.read_csv('suites.csv')\n",
    "\n",
    "X_features = donnees_logement[['price', 'ville']]\n",
    "y_target = donnees_logement['balcon']\n",
    "\n",
    "encodeur_ville = LabelEncoder()\n",
    "X_features['ville'] = encodeur_ville.fit_transform(X_features['ville'])\n",
    "\n",
    "X_train_rf, X_test_rf, y_train_rf, y_test_rf = train_test_split(X_features, y_target, test_size=0.2, random_state=42)\n",
    "\n",
    "modele_foret_aleatoire = RandomForestClassifier(n_estimators=100, random_state=42)\n",
    "modele_foret_aleatoire.fit(X_train_rf, y_train_rf)\n",
    "\n",
    "y_pred_foret = modele_foret_aleatoire.predict(X_test_rf)\n",
    "\n",
    "precision_foret = accuracy_score(y_test_rf, y_pred_foret)\n",
    "rappel_foret = recall_score(y_test_rf, y_pred_foret)\n",
    "score_f1_foret = f1_score(y_test_rf, y_pred_foret)\n",
    "\n",
    "print(\"Forêt Aléatoire (Balcon):\")\n",
    "print(f\"  Précision (Accuracy): {precision_foret}\")\n",
    "print(f\"  Rappel (Recall): {rappel_foret}\")\n",
    "print(f\"  Score F1: {score_f1_foret}\")\n"
   ],
   "id": "c3e9df2d7b891888",
   "outputs": [],
   "execution_count": null
  }
 ],
 "metadata": {
  "kernelspec": {
   "display_name": "Python 3",
   "language": "python",
   "name": "python3"
  },
  "language_info": {
   "codemirror_mode": {
    "name": "ipython",
    "version": 2
   },
   "file_extension": ".py",
   "mimetype": "text/x-python",
   "name": "python",
   "nbconvert_exporter": "python",
   "pygments_lexer": "ipython2",
   "version": "2.7.6"
  }
 },
 "nbformat": 4,
 "nbformat_minor": 5
}
